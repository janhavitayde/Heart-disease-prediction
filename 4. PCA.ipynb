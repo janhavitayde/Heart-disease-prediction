{
  "nbformat": 4,
  "nbformat_minor": 0,
  "metadata": {
    "colab": {
      "provenance": []
    },
    "kernelspec": {
      "name": "python3",
      "display_name": "Python 3"
    },
    "language_info": {
      "name": "python"
    }
  },
  "cells": [
    {
      "cell_type": "code",
      "execution_count": 17,
      "metadata": {
        "id": "PtTn0qOB66kI"
      },
      "outputs": [],
      "source": [
        "import matplotlib.pyplot as plt\n",
        "import numpy as np\n",
        "import pandas as pd\n",
        "%matplotlib inline\n",
        "\n",
        "from sklearn.model_selection import train_test_split\n",
        "from sklearn.linear_model import LogisticRegression\n",
        "from sklearn.metrics import accuracy_score"
      ]
    },
    {
      "cell_type": "code",
      "source": [
        "from sklearn.model_selection import train_test_split"
      ],
      "metadata": {
        "id": "yxFX9bQ17CQV"
      },
      "execution_count": 2,
      "outputs": []
    },
    {
      "cell_type": "code",
      "source": [
        "dataset=pd.read_csv('/content/heart_disease_data.csv')"
      ],
      "metadata": {
        "id": "R7Mb18w17Fvb"
      },
      "execution_count": 3,
      "outputs": []
    },
    {
      "cell_type": "code",
      "source": [
        "dataset.keys()"
      ],
      "metadata": {
        "colab": {
          "base_uri": "https://localhost:8080/"
        },
        "id": "Q6qhuqra7NUb",
        "outputId": "67e34637-9cc7-4c35-ec7c-95504ac14155"
      },
      "execution_count": 4,
      "outputs": [
        {
          "output_type": "execute_result",
          "data": {
            "text/plain": [
              "Index(['age', 'sex', 'cp', 'trestbps', 'chol', 'fbs', 'restecg', 'thalach',\n",
              "       'exang', 'oldpeak', 'slope', 'ca', 'thal', 'target'],\n",
              "      dtype='object')"
            ]
          },
          "metadata": {},
          "execution_count": 4
        }
      ]
    },
    {
      "cell_type": "code",
      "source": [
        "print(dataset['age'])\n"
      ],
      "metadata": {
        "colab": {
          "base_uri": "https://localhost:8080/"
        },
        "id": "MMuimE567PTR",
        "outputId": "0aefa5c6-febc-401d-cb6f-e7607f305540"
      },
      "execution_count": 5,
      "outputs": [
        {
          "output_type": "stream",
          "name": "stdout",
          "text": [
            "0      63\n",
            "1      37\n",
            "2      41\n",
            "3      56\n",
            "4      57\n",
            "       ..\n",
            "298    57\n",
            "299    45\n",
            "300    68\n",
            "301    57\n",
            "302    57\n",
            "Name: age, Length: 303, dtype: int64\n"
          ]
        }
      ]
    },
    {
      "cell_type": "code",
      "source": [
        "# df=pd.DataFrame(diabetes_dataset['age'],columns=diabetes_dataset['feature_names'])\n",
        "dataset.head(5)"
      ],
      "metadata": {
        "colab": {
          "base_uri": "https://localhost:8080/",
          "height": 206
        },
        "id": "JAkV7aEe7VGA",
        "outputId": "3f42ea2e-ef1c-401e-d18f-0bf30c9850ac"
      },
      "execution_count": 6,
      "outputs": [
        {
          "output_type": "execute_result",
          "data": {
            "text/plain": [
              "   age  sex  cp  trestbps  chol  fbs  restecg  thalach  exang  oldpeak  slope  \\\n",
              "0   63    1   3       145   233    1        0      150      0      2.3      0   \n",
              "1   37    1   2       130   250    0        1      187      0      3.5      0   \n",
              "2   41    0   1       130   204    0        0      172      0      1.4      2   \n",
              "3   56    1   1       120   236    0        1      178      0      0.8      2   \n",
              "4   57    0   0       120   354    0        1      163      1      0.6      2   \n",
              "\n",
              "   ca  thal  target  \n",
              "0   0     1       1  \n",
              "1   0     2       1  \n",
              "2   0     2       1  \n",
              "3   0     2       1  \n",
              "4   0     2       1  "
            ],
            "text/html": [
              "\n",
              "  <div id=\"df-72f3a1f3-f1a0-4255-b3d8-bd060c7da522\" class=\"colab-df-container\">\n",
              "    <div>\n",
              "<style scoped>\n",
              "    .dataframe tbody tr th:only-of-type {\n",
              "        vertical-align: middle;\n",
              "    }\n",
              "\n",
              "    .dataframe tbody tr th {\n",
              "        vertical-align: top;\n",
              "    }\n",
              "\n",
              "    .dataframe thead th {\n",
              "        text-align: right;\n",
              "    }\n",
              "</style>\n",
              "<table border=\"1\" class=\"dataframe\">\n",
              "  <thead>\n",
              "    <tr style=\"text-align: right;\">\n",
              "      <th></th>\n",
              "      <th>age</th>\n",
              "      <th>sex</th>\n",
              "      <th>cp</th>\n",
              "      <th>trestbps</th>\n",
              "      <th>chol</th>\n",
              "      <th>fbs</th>\n",
              "      <th>restecg</th>\n",
              "      <th>thalach</th>\n",
              "      <th>exang</th>\n",
              "      <th>oldpeak</th>\n",
              "      <th>slope</th>\n",
              "      <th>ca</th>\n",
              "      <th>thal</th>\n",
              "      <th>target</th>\n",
              "    </tr>\n",
              "  </thead>\n",
              "  <tbody>\n",
              "    <tr>\n",
              "      <th>0</th>\n",
              "      <td>63</td>\n",
              "      <td>1</td>\n",
              "      <td>3</td>\n",
              "      <td>145</td>\n",
              "      <td>233</td>\n",
              "      <td>1</td>\n",
              "      <td>0</td>\n",
              "      <td>150</td>\n",
              "      <td>0</td>\n",
              "      <td>2.3</td>\n",
              "      <td>0</td>\n",
              "      <td>0</td>\n",
              "      <td>1</td>\n",
              "      <td>1</td>\n",
              "    </tr>\n",
              "    <tr>\n",
              "      <th>1</th>\n",
              "      <td>37</td>\n",
              "      <td>1</td>\n",
              "      <td>2</td>\n",
              "      <td>130</td>\n",
              "      <td>250</td>\n",
              "      <td>0</td>\n",
              "      <td>1</td>\n",
              "      <td>187</td>\n",
              "      <td>0</td>\n",
              "      <td>3.5</td>\n",
              "      <td>0</td>\n",
              "      <td>0</td>\n",
              "      <td>2</td>\n",
              "      <td>1</td>\n",
              "    </tr>\n",
              "    <tr>\n",
              "      <th>2</th>\n",
              "      <td>41</td>\n",
              "      <td>0</td>\n",
              "      <td>1</td>\n",
              "      <td>130</td>\n",
              "      <td>204</td>\n",
              "      <td>0</td>\n",
              "      <td>0</td>\n",
              "      <td>172</td>\n",
              "      <td>0</td>\n",
              "      <td>1.4</td>\n",
              "      <td>2</td>\n",
              "      <td>0</td>\n",
              "      <td>2</td>\n",
              "      <td>1</td>\n",
              "    </tr>\n",
              "    <tr>\n",
              "      <th>3</th>\n",
              "      <td>56</td>\n",
              "      <td>1</td>\n",
              "      <td>1</td>\n",
              "      <td>120</td>\n",
              "      <td>236</td>\n",
              "      <td>0</td>\n",
              "      <td>1</td>\n",
              "      <td>178</td>\n",
              "      <td>0</td>\n",
              "      <td>0.8</td>\n",
              "      <td>2</td>\n",
              "      <td>0</td>\n",
              "      <td>2</td>\n",
              "      <td>1</td>\n",
              "    </tr>\n",
              "    <tr>\n",
              "      <th>4</th>\n",
              "      <td>57</td>\n",
              "      <td>0</td>\n",
              "      <td>0</td>\n",
              "      <td>120</td>\n",
              "      <td>354</td>\n",
              "      <td>0</td>\n",
              "      <td>1</td>\n",
              "      <td>163</td>\n",
              "      <td>1</td>\n",
              "      <td>0.6</td>\n",
              "      <td>2</td>\n",
              "      <td>0</td>\n",
              "      <td>2</td>\n",
              "      <td>1</td>\n",
              "    </tr>\n",
              "  </tbody>\n",
              "</table>\n",
              "</div>\n",
              "    <div class=\"colab-df-buttons\">\n",
              "\n",
              "  <div class=\"colab-df-container\">\n",
              "    <button class=\"colab-df-convert\" onclick=\"convertToInteractive('df-72f3a1f3-f1a0-4255-b3d8-bd060c7da522')\"\n",
              "            title=\"Convert this dataframe to an interactive table.\"\n",
              "            style=\"display:none;\">\n",
              "\n",
              "  <svg xmlns=\"http://www.w3.org/2000/svg\" height=\"24px\" viewBox=\"0 -960 960 960\">\n",
              "    <path d=\"M120-120v-720h720v720H120Zm60-500h600v-160H180v160Zm220 220h160v-160H400v160Zm0 220h160v-160H400v160ZM180-400h160v-160H180v160Zm440 0h160v-160H620v160ZM180-180h160v-160H180v160Zm440 0h160v-160H620v160Z\"/>\n",
              "  </svg>\n",
              "    </button>\n",
              "\n",
              "  <style>\n",
              "    .colab-df-container {\n",
              "      display:flex;\n",
              "      gap: 12px;\n",
              "    }\n",
              "\n",
              "    .colab-df-convert {\n",
              "      background-color: #E8F0FE;\n",
              "      border: none;\n",
              "      border-radius: 50%;\n",
              "      cursor: pointer;\n",
              "      display: none;\n",
              "      fill: #1967D2;\n",
              "      height: 32px;\n",
              "      padding: 0 0 0 0;\n",
              "      width: 32px;\n",
              "    }\n",
              "\n",
              "    .colab-df-convert:hover {\n",
              "      background-color: #E2EBFA;\n",
              "      box-shadow: 0px 1px 2px rgba(60, 64, 67, 0.3), 0px 1px 3px 1px rgba(60, 64, 67, 0.15);\n",
              "      fill: #174EA6;\n",
              "    }\n",
              "\n",
              "    .colab-df-buttons div {\n",
              "      margin-bottom: 4px;\n",
              "    }\n",
              "\n",
              "    [theme=dark] .colab-df-convert {\n",
              "      background-color: #3B4455;\n",
              "      fill: #D2E3FC;\n",
              "    }\n",
              "\n",
              "    [theme=dark] .colab-df-convert:hover {\n",
              "      background-color: #434B5C;\n",
              "      box-shadow: 0px 1px 3px 1px rgba(0, 0, 0, 0.15);\n",
              "      filter: drop-shadow(0px 1px 2px rgba(0, 0, 0, 0.3));\n",
              "      fill: #FFFFFF;\n",
              "    }\n",
              "  </style>\n",
              "\n",
              "    <script>\n",
              "      const buttonEl =\n",
              "        document.querySelector('#df-72f3a1f3-f1a0-4255-b3d8-bd060c7da522 button.colab-df-convert');\n",
              "      buttonEl.style.display =\n",
              "        google.colab.kernel.accessAllowed ? 'block' : 'none';\n",
              "\n",
              "      async function convertToInteractive(key) {\n",
              "        const element = document.querySelector('#df-72f3a1f3-f1a0-4255-b3d8-bd060c7da522');\n",
              "        const dataTable =\n",
              "          await google.colab.kernel.invokeFunction('convertToInteractive',\n",
              "                                                    [key], {});\n",
              "        if (!dataTable) return;\n",
              "\n",
              "        const docLinkHtml = 'Like what you see? Visit the ' +\n",
              "          '<a target=\"_blank\" href=https://colab.research.google.com/notebooks/data_table.ipynb>data table notebook</a>'\n",
              "          + ' to learn more about interactive tables.';\n",
              "        element.innerHTML = '';\n",
              "        dataTable['output_type'] = 'display_data';\n",
              "        await google.colab.output.renderOutput(dataTable, element);\n",
              "        const docLink = document.createElement('div');\n",
              "        docLink.innerHTML = docLinkHtml;\n",
              "        element.appendChild(docLink);\n",
              "      }\n",
              "    </script>\n",
              "  </div>\n",
              "\n",
              "\n",
              "<div id=\"df-ce71afbb-3826-4835-a67f-59ceec4e76cb\">\n",
              "  <button class=\"colab-df-quickchart\" onclick=\"quickchart('df-ce71afbb-3826-4835-a67f-59ceec4e76cb')\"\n",
              "            title=\"Suggest charts.\"\n",
              "            style=\"display:none;\">\n",
              "\n",
              "<svg xmlns=\"http://www.w3.org/2000/svg\" height=\"24px\"viewBox=\"0 0 24 24\"\n",
              "     width=\"24px\">\n",
              "    <g>\n",
              "        <path d=\"M19 3H5c-1.1 0-2 .9-2 2v14c0 1.1.9 2 2 2h14c1.1 0 2-.9 2-2V5c0-1.1-.9-2-2-2zM9 17H7v-7h2v7zm4 0h-2V7h2v10zm4 0h-2v-4h2v4z\"/>\n",
              "    </g>\n",
              "</svg>\n",
              "  </button>\n",
              "\n",
              "<style>\n",
              "  .colab-df-quickchart {\n",
              "      --bg-color: #E8F0FE;\n",
              "      --fill-color: #1967D2;\n",
              "      --hover-bg-color: #E2EBFA;\n",
              "      --hover-fill-color: #174EA6;\n",
              "      --disabled-fill-color: #AAA;\n",
              "      --disabled-bg-color: #DDD;\n",
              "  }\n",
              "\n",
              "  [theme=dark] .colab-df-quickchart {\n",
              "      --bg-color: #3B4455;\n",
              "      --fill-color: #D2E3FC;\n",
              "      --hover-bg-color: #434B5C;\n",
              "      --hover-fill-color: #FFFFFF;\n",
              "      --disabled-bg-color: #3B4455;\n",
              "      --disabled-fill-color: #666;\n",
              "  }\n",
              "\n",
              "  .colab-df-quickchart {\n",
              "    background-color: var(--bg-color);\n",
              "    border: none;\n",
              "    border-radius: 50%;\n",
              "    cursor: pointer;\n",
              "    display: none;\n",
              "    fill: var(--fill-color);\n",
              "    height: 32px;\n",
              "    padding: 0;\n",
              "    width: 32px;\n",
              "  }\n",
              "\n",
              "  .colab-df-quickchart:hover {\n",
              "    background-color: var(--hover-bg-color);\n",
              "    box-shadow: 0 1px 2px rgba(60, 64, 67, 0.3), 0 1px 3px 1px rgba(60, 64, 67, 0.15);\n",
              "    fill: var(--button-hover-fill-color);\n",
              "  }\n",
              "\n",
              "  .colab-df-quickchart-complete:disabled,\n",
              "  .colab-df-quickchart-complete:disabled:hover {\n",
              "    background-color: var(--disabled-bg-color);\n",
              "    fill: var(--disabled-fill-color);\n",
              "    box-shadow: none;\n",
              "  }\n",
              "\n",
              "  .colab-df-spinner {\n",
              "    border: 2px solid var(--fill-color);\n",
              "    border-color: transparent;\n",
              "    border-bottom-color: var(--fill-color);\n",
              "    animation:\n",
              "      spin 1s steps(1) infinite;\n",
              "  }\n",
              "\n",
              "  @keyframes spin {\n",
              "    0% {\n",
              "      border-color: transparent;\n",
              "      border-bottom-color: var(--fill-color);\n",
              "      border-left-color: var(--fill-color);\n",
              "    }\n",
              "    20% {\n",
              "      border-color: transparent;\n",
              "      border-left-color: var(--fill-color);\n",
              "      border-top-color: var(--fill-color);\n",
              "    }\n",
              "    30% {\n",
              "      border-color: transparent;\n",
              "      border-left-color: var(--fill-color);\n",
              "      border-top-color: var(--fill-color);\n",
              "      border-right-color: var(--fill-color);\n",
              "    }\n",
              "    40% {\n",
              "      border-color: transparent;\n",
              "      border-right-color: var(--fill-color);\n",
              "      border-top-color: var(--fill-color);\n",
              "    }\n",
              "    60% {\n",
              "      border-color: transparent;\n",
              "      border-right-color: var(--fill-color);\n",
              "    }\n",
              "    80% {\n",
              "      border-color: transparent;\n",
              "      border-right-color: var(--fill-color);\n",
              "      border-bottom-color: var(--fill-color);\n",
              "    }\n",
              "    90% {\n",
              "      border-color: transparent;\n",
              "      border-bottom-color: var(--fill-color);\n",
              "    }\n",
              "  }\n",
              "</style>\n",
              "\n",
              "  <script>\n",
              "    async function quickchart(key) {\n",
              "      const quickchartButtonEl =\n",
              "        document.querySelector('#' + key + ' button');\n",
              "      quickchartButtonEl.disabled = true;  // To prevent multiple clicks.\n",
              "      quickchartButtonEl.classList.add('colab-df-spinner');\n",
              "      try {\n",
              "        const charts = await google.colab.kernel.invokeFunction(\n",
              "            'suggestCharts', [key], {});\n",
              "      } catch (error) {\n",
              "        console.error('Error during call to suggestCharts:', error);\n",
              "      }\n",
              "      quickchartButtonEl.classList.remove('colab-df-spinner');\n",
              "      quickchartButtonEl.classList.add('colab-df-quickchart-complete');\n",
              "    }\n",
              "    (() => {\n",
              "      let quickchartButtonEl =\n",
              "        document.querySelector('#df-ce71afbb-3826-4835-a67f-59ceec4e76cb button');\n",
              "      quickchartButtonEl.style.display =\n",
              "        google.colab.kernel.accessAllowed ? 'block' : 'none';\n",
              "    })();\n",
              "  </script>\n",
              "</div>\n",
              "    </div>\n",
              "  </div>\n"
            ]
          },
          "metadata": {},
          "execution_count": 6
        }
      ]
    },
    {
      "cell_type": "code",
      "source": [
        "from sklearn.preprocessing import MinMaxScaler\n",
        "from sklearn.preprocessing import StandardScaler\n",
        "scaler=StandardScaler()\n",
        "scaler.fit(dataset)"
      ],
      "metadata": {
        "colab": {
          "base_uri": "https://localhost:8080/",
          "height": 74
        },
        "id": "bUj3JEP27kIq",
        "outputId": "cb7b8c73-00d1-4c8d-b7ba-4355b831f5ea"
      },
      "execution_count": 7,
      "outputs": [
        {
          "output_type": "execute_result",
          "data": {
            "text/plain": [
              "StandardScaler()"
            ],
            "text/html": [
              "<style>#sk-container-id-1 {color: black;background-color: white;}#sk-container-id-1 pre{padding: 0;}#sk-container-id-1 div.sk-toggleable {background-color: white;}#sk-container-id-1 label.sk-toggleable__label {cursor: pointer;display: block;width: 100%;margin-bottom: 0;padding: 0.3em;box-sizing: border-box;text-align: center;}#sk-container-id-1 label.sk-toggleable__label-arrow:before {content: \"▸\";float: left;margin-right: 0.25em;color: #696969;}#sk-container-id-1 label.sk-toggleable__label-arrow:hover:before {color: black;}#sk-container-id-1 div.sk-estimator:hover label.sk-toggleable__label-arrow:before {color: black;}#sk-container-id-1 div.sk-toggleable__content {max-height: 0;max-width: 0;overflow: hidden;text-align: left;background-color: #f0f8ff;}#sk-container-id-1 div.sk-toggleable__content pre {margin: 0.2em;color: black;border-radius: 0.25em;background-color: #f0f8ff;}#sk-container-id-1 input.sk-toggleable__control:checked~div.sk-toggleable__content {max-height: 200px;max-width: 100%;overflow: auto;}#sk-container-id-1 input.sk-toggleable__control:checked~label.sk-toggleable__label-arrow:before {content: \"▾\";}#sk-container-id-1 div.sk-estimator input.sk-toggleable__control:checked~label.sk-toggleable__label {background-color: #d4ebff;}#sk-container-id-1 div.sk-label input.sk-toggleable__control:checked~label.sk-toggleable__label {background-color: #d4ebff;}#sk-container-id-1 input.sk-hidden--visually {border: 0;clip: rect(1px 1px 1px 1px);clip: rect(1px, 1px, 1px, 1px);height: 1px;margin: -1px;overflow: hidden;padding: 0;position: absolute;width: 1px;}#sk-container-id-1 div.sk-estimator {font-family: monospace;background-color: #f0f8ff;border: 1px dotted black;border-radius: 0.25em;box-sizing: border-box;margin-bottom: 0.5em;}#sk-container-id-1 div.sk-estimator:hover {background-color: #d4ebff;}#sk-container-id-1 div.sk-parallel-item::after {content: \"\";width: 100%;border-bottom: 1px solid gray;flex-grow: 1;}#sk-container-id-1 div.sk-label:hover label.sk-toggleable__label {background-color: #d4ebff;}#sk-container-id-1 div.sk-serial::before {content: \"\";position: absolute;border-left: 1px solid gray;box-sizing: border-box;top: 0;bottom: 0;left: 50%;z-index: 0;}#sk-container-id-1 div.sk-serial {display: flex;flex-direction: column;align-items: center;background-color: white;padding-right: 0.2em;padding-left: 0.2em;position: relative;}#sk-container-id-1 div.sk-item {position: relative;z-index: 1;}#sk-container-id-1 div.sk-parallel {display: flex;align-items: stretch;justify-content: center;background-color: white;position: relative;}#sk-container-id-1 div.sk-item::before, #sk-container-id-1 div.sk-parallel-item::before {content: \"\";position: absolute;border-left: 1px solid gray;box-sizing: border-box;top: 0;bottom: 0;left: 50%;z-index: -1;}#sk-container-id-1 div.sk-parallel-item {display: flex;flex-direction: column;z-index: 1;position: relative;background-color: white;}#sk-container-id-1 div.sk-parallel-item:first-child::after {align-self: flex-end;width: 50%;}#sk-container-id-1 div.sk-parallel-item:last-child::after {align-self: flex-start;width: 50%;}#sk-container-id-1 div.sk-parallel-item:only-child::after {width: 0;}#sk-container-id-1 div.sk-dashed-wrapped {border: 1px dashed gray;margin: 0 0.4em 0.5em 0.4em;box-sizing: border-box;padding-bottom: 0.4em;background-color: white;}#sk-container-id-1 div.sk-label label {font-family: monospace;font-weight: bold;display: inline-block;line-height: 1.2em;}#sk-container-id-1 div.sk-label-container {text-align: center;}#sk-container-id-1 div.sk-container {/* jupyter's `normalize.less` sets `[hidden] { display: none; }` but bootstrap.min.css set `[hidden] { display: none !important; }` so we also need the `!important` here to be able to override the default hidden behavior on the sphinx rendered scikit-learn.org. See: https://github.com/scikit-learn/scikit-learn/issues/21755 */display: inline-block !important;position: relative;}#sk-container-id-1 div.sk-text-repr-fallback {display: none;}</style><div id=\"sk-container-id-1\" class=\"sk-top-container\"><div class=\"sk-text-repr-fallback\"><pre>StandardScaler()</pre><b>In a Jupyter environment, please rerun this cell to show the HTML representation or trust the notebook. <br />On GitHub, the HTML representation is unable to render, please try loading this page with nbviewer.org.</b></div><div class=\"sk-container\" hidden><div class=\"sk-item\"><div class=\"sk-estimator sk-toggleable\"><input class=\"sk-toggleable__control sk-hidden--visually\" id=\"sk-estimator-id-1\" type=\"checkbox\" checked><label for=\"sk-estimator-id-1\" class=\"sk-toggleable__label sk-toggleable__label-arrow\">StandardScaler</label><div class=\"sk-toggleable__content\"><pre>StandardScaler()</pre></div></div></div></div></div>"
            ]
          },
          "metadata": {},
          "execution_count": 7
        }
      ]
    },
    {
      "cell_type": "code",
      "source": [
        "scaled_data=scaler.transform(dataset)"
      ],
      "metadata": {
        "id": "A4puRQiQ7mPJ"
      },
      "execution_count": 8,
      "outputs": []
    },
    {
      "cell_type": "code",
      "source": [
        "scaled_data"
      ],
      "metadata": {
        "colab": {
          "base_uri": "https://localhost:8080/"
        },
        "id": "NonfVH-47opo",
        "outputId": "d0d13d55-d57f-4f39-ad1e-23988bb15b83"
      },
      "execution_count": 9,
      "outputs": [
        {
          "output_type": "execute_result",
          "data": {
            "text/plain": [
              "array([[ 0.9521966 ,  0.68100522,  1.97312292, ..., -0.71442887,\n",
              "        -2.14887271,  0.91452919],\n",
              "       [-1.91531289,  0.68100522,  1.00257707, ..., -0.71442887,\n",
              "        -0.51292188,  0.91452919],\n",
              "       [-1.47415758, -1.46841752,  0.03203122, ..., -0.71442887,\n",
              "        -0.51292188,  0.91452919],\n",
              "       ...,\n",
              "       [ 1.50364073,  0.68100522, -0.93851463, ...,  1.24459328,\n",
              "         1.12302895, -1.09345881],\n",
              "       [ 0.29046364,  0.68100522, -0.93851463, ...,  0.26508221,\n",
              "         1.12302895, -1.09345881],\n",
              "       [ 0.29046364, -1.46841752,  0.03203122, ...,  0.26508221,\n",
              "        -0.51292188, -1.09345881]])"
            ]
          },
          "metadata": {},
          "execution_count": 9
        }
      ]
    },
    {
      "cell_type": "code",
      "source": [
        "from sklearn.decomposition import PCA\n",
        "pca=PCA(n_components=2)\n",
        "pca.fit(scaled_data)"
      ],
      "metadata": {
        "colab": {
          "base_uri": "https://localhost:8080/",
          "height": 74
        },
        "id": "Jgn_NmTI7qvx",
        "outputId": "a0fcc81c-ec77-41c8-cc5d-d46abceeb8b3"
      },
      "execution_count": 10,
      "outputs": [
        {
          "output_type": "execute_result",
          "data": {
            "text/plain": [
              "PCA(n_components=2)"
            ],
            "text/html": [
              "<style>#sk-container-id-2 {color: black;background-color: white;}#sk-container-id-2 pre{padding: 0;}#sk-container-id-2 div.sk-toggleable {background-color: white;}#sk-container-id-2 label.sk-toggleable__label {cursor: pointer;display: block;width: 100%;margin-bottom: 0;padding: 0.3em;box-sizing: border-box;text-align: center;}#sk-container-id-2 label.sk-toggleable__label-arrow:before {content: \"▸\";float: left;margin-right: 0.25em;color: #696969;}#sk-container-id-2 label.sk-toggleable__label-arrow:hover:before {color: black;}#sk-container-id-2 div.sk-estimator:hover label.sk-toggleable__label-arrow:before {color: black;}#sk-container-id-2 div.sk-toggleable__content {max-height: 0;max-width: 0;overflow: hidden;text-align: left;background-color: #f0f8ff;}#sk-container-id-2 div.sk-toggleable__content pre {margin: 0.2em;color: black;border-radius: 0.25em;background-color: #f0f8ff;}#sk-container-id-2 input.sk-toggleable__control:checked~div.sk-toggleable__content {max-height: 200px;max-width: 100%;overflow: auto;}#sk-container-id-2 input.sk-toggleable__control:checked~label.sk-toggleable__label-arrow:before {content: \"▾\";}#sk-container-id-2 div.sk-estimator input.sk-toggleable__control:checked~label.sk-toggleable__label {background-color: #d4ebff;}#sk-container-id-2 div.sk-label input.sk-toggleable__control:checked~label.sk-toggleable__label {background-color: #d4ebff;}#sk-container-id-2 input.sk-hidden--visually {border: 0;clip: rect(1px 1px 1px 1px);clip: rect(1px, 1px, 1px, 1px);height: 1px;margin: -1px;overflow: hidden;padding: 0;position: absolute;width: 1px;}#sk-container-id-2 div.sk-estimator {font-family: monospace;background-color: #f0f8ff;border: 1px dotted black;border-radius: 0.25em;box-sizing: border-box;margin-bottom: 0.5em;}#sk-container-id-2 div.sk-estimator:hover {background-color: #d4ebff;}#sk-container-id-2 div.sk-parallel-item::after {content: \"\";width: 100%;border-bottom: 1px solid gray;flex-grow: 1;}#sk-container-id-2 div.sk-label:hover label.sk-toggleable__label {background-color: #d4ebff;}#sk-container-id-2 div.sk-serial::before {content: \"\";position: absolute;border-left: 1px solid gray;box-sizing: border-box;top: 0;bottom: 0;left: 50%;z-index: 0;}#sk-container-id-2 div.sk-serial {display: flex;flex-direction: column;align-items: center;background-color: white;padding-right: 0.2em;padding-left: 0.2em;position: relative;}#sk-container-id-2 div.sk-item {position: relative;z-index: 1;}#sk-container-id-2 div.sk-parallel {display: flex;align-items: stretch;justify-content: center;background-color: white;position: relative;}#sk-container-id-2 div.sk-item::before, #sk-container-id-2 div.sk-parallel-item::before {content: \"\";position: absolute;border-left: 1px solid gray;box-sizing: border-box;top: 0;bottom: 0;left: 50%;z-index: -1;}#sk-container-id-2 div.sk-parallel-item {display: flex;flex-direction: column;z-index: 1;position: relative;background-color: white;}#sk-container-id-2 div.sk-parallel-item:first-child::after {align-self: flex-end;width: 50%;}#sk-container-id-2 div.sk-parallel-item:last-child::after {align-self: flex-start;width: 50%;}#sk-container-id-2 div.sk-parallel-item:only-child::after {width: 0;}#sk-container-id-2 div.sk-dashed-wrapped {border: 1px dashed gray;margin: 0 0.4em 0.5em 0.4em;box-sizing: border-box;padding-bottom: 0.4em;background-color: white;}#sk-container-id-2 div.sk-label label {font-family: monospace;font-weight: bold;display: inline-block;line-height: 1.2em;}#sk-container-id-2 div.sk-label-container {text-align: center;}#sk-container-id-2 div.sk-container {/* jupyter's `normalize.less` sets `[hidden] { display: none; }` but bootstrap.min.css set `[hidden] { display: none !important; }` so we also need the `!important` here to be able to override the default hidden behavior on the sphinx rendered scikit-learn.org. See: https://github.com/scikit-learn/scikit-learn/issues/21755 */display: inline-block !important;position: relative;}#sk-container-id-2 div.sk-text-repr-fallback {display: none;}</style><div id=\"sk-container-id-2\" class=\"sk-top-container\"><div class=\"sk-text-repr-fallback\"><pre>PCA(n_components=2)</pre><b>In a Jupyter environment, please rerun this cell to show the HTML representation or trust the notebook. <br />On GitHub, the HTML representation is unable to render, please try loading this page with nbviewer.org.</b></div><div class=\"sk-container\" hidden><div class=\"sk-item\"><div class=\"sk-estimator sk-toggleable\"><input class=\"sk-toggleable__control sk-hidden--visually\" id=\"sk-estimator-id-2\" type=\"checkbox\" checked><label for=\"sk-estimator-id-2\" class=\"sk-toggleable__label sk-toggleable__label-arrow\">PCA</label><div class=\"sk-toggleable__content\"><pre>PCA(n_components=2)</pre></div></div></div></div></div>"
            ]
          },
          "metadata": {},
          "execution_count": 10
        }
      ]
    },
    {
      "cell_type": "code",
      "source": [
        "X=pca.transform(scaled_data)"
      ],
      "metadata": {
        "id": "ohJAyrE37tg4"
      },
      "execution_count": 11,
      "outputs": []
    },
    {
      "cell_type": "code",
      "source": [
        "scaled_data.shape"
      ],
      "metadata": {
        "colab": {
          "base_uri": "https://localhost:8080/"
        },
        "id": "gWjsif3P7vF4",
        "outputId": "952875ff-374a-4a04-cc9c-8bb06463732f"
      },
      "execution_count": 12,
      "outputs": [
        {
          "output_type": "execute_result",
          "data": {
            "text/plain": [
              "(303, 14)"
            ]
          },
          "metadata": {},
          "execution_count": 12
        }
      ]
    },
    {
      "cell_type": "code",
      "source": [
        "X.shape"
      ],
      "metadata": {
        "colab": {
          "base_uri": "https://localhost:8080/"
        },
        "id": "7daN2e8T7wbI",
        "outputId": "ac490f71-db11-4c6d-c263-8740318e3783"
      },
      "execution_count": 13,
      "outputs": [
        {
          "output_type": "execute_result",
          "data": {
            "text/plain": [
              "(303, 2)"
            ]
          },
          "metadata": {},
          "execution_count": 13
        }
      ]
    },
    {
      "cell_type": "code",
      "source": [
        "scaled_data"
      ],
      "metadata": {
        "colab": {
          "base_uri": "https://localhost:8080/"
        },
        "id": "ITv5jTXl7x-4",
        "outputId": "9d5b6fd0-27b6-4ec7-b158-0a953e0954e0"
      },
      "execution_count": 14,
      "outputs": [
        {
          "output_type": "execute_result",
          "data": {
            "text/plain": [
              "array([[ 0.9521966 ,  0.68100522,  1.97312292, ..., -0.71442887,\n",
              "        -2.14887271,  0.91452919],\n",
              "       [-1.91531289,  0.68100522,  1.00257707, ..., -0.71442887,\n",
              "        -0.51292188,  0.91452919],\n",
              "       [-1.47415758, -1.46841752,  0.03203122, ..., -0.71442887,\n",
              "        -0.51292188,  0.91452919],\n",
              "       ...,\n",
              "       [ 1.50364073,  0.68100522, -0.93851463, ...,  1.24459328,\n",
              "         1.12302895, -1.09345881],\n",
              "       [ 0.29046364,  0.68100522, -0.93851463, ...,  0.26508221,\n",
              "         1.12302895, -1.09345881],\n",
              "       [ 0.29046364, -1.46841752,  0.03203122, ...,  0.26508221,\n",
              "        -0.51292188, -1.09345881]])"
            ]
          },
          "metadata": {},
          "execution_count": 14
        }
      ]
    },
    {
      "cell_type": "code",
      "source": [
        "X\n"
      ],
      "metadata": {
        "colab": {
          "base_uri": "https://localhost:8080/"
        },
        "id": "pt-lTOxw71kA",
        "outputId": "ab96c67a-8176-4bb9-87b1-db948dca4f1f"
      },
      "execution_count": 15,
      "outputs": [
        {
          "output_type": "execute_result",
          "data": {
            "text/plain": [
              "array([[-5.17391076e-02,  2.62402204e+00],\n",
              "       [-8.17440594e-01, -7.30374576e-01],\n",
              "       [-2.05759932e+00, -3.90984463e-02],\n",
              "       [-1.90304318e+00, -5.96700877e-01],\n",
              "       [-7.68370620e-01,  4.12545496e-01],\n",
              "       [-1.00063986e+00, -2.33692414e-01],\n",
              "       [-5.91350471e-01,  1.63794959e+00],\n",
              "       [-2.00195499e+00, -1.32964375e+00],\n",
              "       [-1.23612315e+00,  1.06805571e+00],\n",
              "       [-1.69086932e+00,  1.84121933e-02],\n",
              "       [-1.10288020e+00, -4.16413123e-01],\n",
              "       [-2.06867462e+00,  6.26420387e-01],\n",
              "       [-1.91311753e+00, -4.82444305e-01],\n",
              "       [-1.88544760e-02, -5.27645548e-02],\n",
              "       [-1.62380811e+00,  3.22097662e+00],\n",
              "       [-1.52544131e+00,  1.76529041e-01],\n",
              "       [-2.34955098e+00,  1.30681292e+00],\n",
              "       [ 4.74312110e-01,  2.12016032e+00],\n",
              "       [-1.39313353e+00, -6.41479881e-01],\n",
              "       [-8.96394228e-01,  2.13680646e+00],\n",
              "       [-3.59960913e-01, -5.98388497e-01],\n",
              "       [-1.85472938e+00, -1.13950739e+00],\n",
              "       [-2.13339648e+00, -1.12381929e+00],\n",
              "       [ 3.49867293e-01,  1.21228881e+00],\n",
              "       [-1.51045516e+00, -1.35030925e+00],\n",
              "       [-6.49745263e-01,  2.62657895e+00],\n",
              "       [-1.13519669e+00,  1.28381653e+00],\n",
              "       [-1.68484132e+00, -1.25778863e+00],\n",
              "       [-7.34150073e-01,  4.06818552e+00],\n",
              "       [-2.74536410e-01,  9.05140700e-01],\n",
              "       [-2.61817564e+00, -1.05993072e+00],\n",
              "       [-6.44116580e-01, -1.14380583e+00],\n",
              "       [-2.38753263e+00, -6.62552438e-01],\n",
              "       [-2.69117779e-01,  5.69903587e-01],\n",
              "       [-3.49101837e-01, -2.76627218e-01],\n",
              "       [-1.65091381e-01,  2.74607102e-01],\n",
              "       [-2.21859857e+00,  2.10139860e+00],\n",
              "       [-9.39283620e-01,  4.08178646e-01],\n",
              "       [-1.34562823e+00,  2.06427309e+00],\n",
              "       [-9.76289260e-01,  3.22818052e+00],\n",
              "       [-1.00565132e+00,  1.78217395e+00],\n",
              "       [-1.50814855e+00, -2.16559442e-01],\n",
              "       [ 5.11228040e-01, -1.90985712e+00],\n",
              "       [-6.73381599e-01,  7.50534084e-01],\n",
              "       [-2.43199221e+00,  3.13344738e-01],\n",
              "       [-1.95175554e+00, -1.88351404e-01],\n",
              "       [-2.41312833e+00, -3.78398832e-02],\n",
              "       [-1.92214197e+00,  2.13599285e-01],\n",
              "       [-2.24492992e+00,  1.44432760e+00],\n",
              "       [-1.58854947e+00,  6.70203812e-01],\n",
              "       [-1.86985534e+00,  1.05379300e+00],\n",
              "       [-1.91609020e-01,  5.56030502e-01],\n",
              "       [ 5.67431594e-01,  2.25091180e-01],\n",
              "       [-2.52488802e+00, -9.86850237e-01],\n",
              "       [-2.02686307e+00,  1.72772921e+00],\n",
              "       [-1.38290113e+00, -5.87912610e-01],\n",
              "       [-2.03896806e+00, -9.07656783e-01],\n",
              "       [-2.09817770e+00, -9.68355905e-01],\n",
              "       [-3.14312445e+00, -1.19284345e+00],\n",
              "       [-1.16549495e+00,  1.18314589e+00],\n",
              "       [-9.11943345e-01,  2.53290151e+00],\n",
              "       [-1.46848012e+00, -8.22342849e-01],\n",
              "       [-2.72337284e+00,  9.45620520e-02],\n",
              "       [-1.60893397e+00, -8.16450051e-01],\n",
              "       [-1.67455676e+00,  1.34416607e+00],\n",
              "       [-2.30271514e+00, -9.43383436e-01],\n",
              "       [-5.69638443e-01, -1.54662329e+00],\n",
              "       [-1.66636126e+00,  4.11119475e-01],\n",
              "       [-2.39466121e+00, -1.31340271e+00],\n",
              "       [-1.76010764e+00,  1.77030994e-01],\n",
              "       [-7.10777640e-01, -1.32225456e-01],\n",
              "       [-1.07894383e+00, -1.97907470e+00],\n",
              "       [-3.05873919e+00, -1.50363300e+00],\n",
              "       [-1.01826710e+00, -4.71443814e-01],\n",
              "       [-2.27413620e+00, -1.89864145e-01],\n",
              "       [-8.36135500e-01,  1.15850659e+00],\n",
              "       [-6.57681877e-01,  9.74806772e-01],\n",
              "       [-9.92578435e-01, -5.01041115e-01],\n",
              "       [-2.20549463e+00,  3.65511246e-02],\n",
              "       [-8.97376192e-02, -8.74323045e-01],\n",
              "       [-2.90325284e+00, -1.19621790e+00],\n",
              "       [-1.92933549e+00, -4.49939488e-02],\n",
              "       [-2.03571149e+00,  8.88851186e-01],\n",
              "       [-9.98590482e-01,  1.58634577e+00],\n",
              "       [-8.15034398e-01, -4.84587027e-01],\n",
              "       [ 6.86405998e-02,  3.36882363e+00],\n",
              "       [-6.60331604e-01,  2.69414419e-01],\n",
              "       [-1.80218393e+00, -1.30851560e+00],\n",
              "       [-1.50647712e+00,  8.47632581e-02],\n",
              "       [-2.86413326e-01,  1.40511320e-01],\n",
              "       [-1.87191729e+00,  5.29009173e-01],\n",
              "       [-5.74340315e-01, -1.47317373e+00],\n",
              "       [-1.23932588e+00,  1.80429990e-01],\n",
              "       [-6.44516930e-01,  1.71603469e+00],\n",
              "       [-1.76138169e+00, -9.74242395e-01],\n",
              "       [ 5.58242686e-01, -8.72441053e-01],\n",
              "       [-7.46567882e-02,  2.36361470e+00],\n",
              "       [-2.99837483e-01, -5.70020738e-01],\n",
              "       [-1.44518980e+00, -5.57804464e-02],\n",
              "       [-1.19595212e+00,  1.36148722e+00],\n",
              "       [-1.85256182e+00,  5.89465259e-01],\n",
              "       [ 1.44560571e+00,  2.07449155e+00],\n",
              "       [-1.63281023e+00,  9.74799971e-01],\n",
              "       [-1.23984915e+00, -3.22908854e-01],\n",
              "       [-2.34791420e+00, -6.97338033e-01],\n",
              "       [-1.65178110e-01,  1.41205615e+00],\n",
              "       [-6.16347622e-02,  2.97039490e+00],\n",
              "       [-3.72341638e-01, -7.61501166e-02],\n",
              "       [-1.96705749e+00,  1.44808441e-02],\n",
              "       [-1.85657249e+00, -4.72005587e-02],\n",
              "       [-1.66179746e-01,  2.06161125e+00],\n",
              "       [-1.42706030e+00,  3.33148203e-01],\n",
              "       [-1.00834872e+00,  1.61432736e+00],\n",
              "       [-1.74801641e+00, -2.25118881e+00],\n",
              "       [-1.68719566e+00, -2.27840549e-01],\n",
              "       [-3.12840758e+00, -5.90061798e-01],\n",
              "       [-1.25941118e+00, -4.73654792e-01],\n",
              "       [-7.98907405e-01, -1.93159324e-01],\n",
              "       [-2.78775571e+00, -8.64736392e-01],\n",
              "       [-3.95660650e-01,  1.69638433e-02],\n",
              "       [ 8.50365566e-01,  1.37476465e+00],\n",
              "       [-1.44480468e+00,  3.77346120e-01],\n",
              "       [-2.09243326e+00, -2.60054929e-01],\n",
              "       [-2.39933321e+00,  7.07091485e-01],\n",
              "       [-3.46394362e+00, -1.26231022e+00],\n",
              "       [-3.10095489e+00, -1.06864202e+00],\n",
              "       [-1.67544027e+00, -1.73467454e+00],\n",
              "       [-1.68418333e+00,  2.21283832e+00],\n",
              "       [-1.81732381e+00,  8.91807612e-01],\n",
              "       [ 3.04716020e-01,  1.40897196e+00],\n",
              "       [-1.97215941e+00,  1.25152349e+00],\n",
              "       [-1.65100746e+00,  5.46782408e-01],\n",
              "       [-2.18885014e+00, -8.90420583e-01],\n",
              "       [-2.26370411e+00, -1.60807358e+00],\n",
              "       [-2.42509762e+00,  1.30351778e-01],\n",
              "       [-1.96682128e+00,  1.07646030e-01],\n",
              "       [-1.21545886e+00,  1.14890857e+00],\n",
              "       [-1.00177887e+00,  9.58379405e-01],\n",
              "       [ 1.82045533e-01, -1.34150965e+00],\n",
              "       [ 1.54643465e+00, -6.76614083e-01],\n",
              "       [-1.98082781e+00,  1.07255348e+00],\n",
              "       [-1.31484834e+00, -1.08292012e+00],\n",
              "       [-2.51810276e+00, -3.22578146e-01],\n",
              "       [-8.01959262e-01,  2.54810672e-01],\n",
              "       [-3.67736067e-01,  1.39214294e+00],\n",
              "       [-6.73038396e-01,  1.45580569e+00],\n",
              "       [-1.68360956e+00,  5.41195927e-02],\n",
              "       [-2.18255820e+00,  1.75093214e+00],\n",
              "       [-2.63441035e+00, -1.01199984e+00],\n",
              "       [-2.38375580e+00, -1.17409053e+00],\n",
              "       [-6.55738858e-02,  1.34969108e+00],\n",
              "       [-6.75611908e-02,  2.09535140e-03],\n",
              "       [-3.95970433e-01,  1.67282759e+00],\n",
              "       [-6.98195888e-01,  2.49119688e+00],\n",
              "       [-2.09451782e+00,  6.45065882e-02],\n",
              "       [-6.09809735e-01,  1.30333911e-01],\n",
              "       [-2.57836091e+00, -4.25284152e-01],\n",
              "       [-2.74389694e+00, -1.89877766e+00],\n",
              "       [ 5.01844088e-01, -3.73681705e-01],\n",
              "       [-1.28307821e+00, -3.71962082e-01],\n",
              "       [-9.48844629e-01, -4.57674884e-01],\n",
              "       [-1.58360504e+00,  1.24530629e+00],\n",
              "       [-2.78323493e+00, -1.89874769e+00],\n",
              "       [-1.78107380e+00, -8.39559018e-01],\n",
              "       [-1.78107380e+00, -8.39559018e-01],\n",
              "       [ 3.54894006e+00,  1.06894613e+00],\n",
              "       [ 3.23305972e+00, -7.22351808e-01],\n",
              "       [ 2.33991879e+00,  1.48632597e+00],\n",
              "       [ 1.60657492e+00, -1.74468409e-01],\n",
              "       [ 2.87122173e+00, -3.32045351e-01],\n",
              "       [ 8.42269800e-01,  1.04957996e+00],\n",
              "       [ 3.02603151e-01, -1.77477738e+00],\n",
              "       [ 4.68252690e-01,  2.55581086e-02],\n",
              "       [ 7.81731589e-01,  7.16628988e-03],\n",
              "       [ 2.96830541e+00, -9.76741756e-01],\n",
              "       [ 1.81872521e+00, -2.92442007e+00],\n",
              "       [ 1.54058192e+00, -7.74707973e-01],\n",
              "       [-6.55333050e-01,  9.29125454e-01],\n",
              "       [ 2.06808435e+00, -2.44402105e+00],\n",
              "       [ 1.93907279e+00,  3.67016772e-01],\n",
              "       [ 2.25480002e+00, -6.76029136e-01],\n",
              "       [ 2.43058556e+00,  1.24735571e+00],\n",
              "       [-5.24892734e-01,  1.22155499e+00],\n",
              "       [ 8.01802238e-01, -4.99734096e-01],\n",
              "       [ 1.82223995e+00, -4.44300748e-01],\n",
              "       [-4.48884828e-01, -1.09437038e+00],\n",
              "       [ 1.54231591e+00, -1.23604077e+00],\n",
              "       [ 2.90521140e+00, -1.10023130e+00],\n",
              "       [ 3.14868798e-02, -6.10908653e-01],\n",
              "       [-7.32165070e-01, -2.51673528e+00],\n",
              "       [ 1.36163346e+00, -5.06422417e-01],\n",
              "       [ 3.12171329e+00, -9.69243294e-01],\n",
              "       [ 1.48438463e+00, -1.72994492e+00],\n",
              "       [ 3.19731543e+00, -6.16269602e-02],\n",
              "       [ 7.12663607e-01,  2.30484826e-01],\n",
              "       [ 3.69815268e+00,  7.23033758e-01],\n",
              "       [ 5.93067364e-01, -2.75799482e-01],\n",
              "       [ 1.22919328e+00,  4.11970204e-01],\n",
              "       [ 3.17307004e+00, -1.12528060e+00],\n",
              "       [ 5.09647433e-02,  1.20256522e-02],\n",
              "       [-1.01601356e+00, -1.79252097e+00],\n",
              "       [ 2.74603630e+00, -8.25790252e-01],\n",
              "       [ 1.97930561e+00, -4.04908736e-01],\n",
              "       [ 2.29417987e+00,  2.33116831e+00],\n",
              "       [ 4.01309767e+00,  1.10821369e+00],\n",
              "       [ 5.85953577e-01, -1.69825743e+00],\n",
              "       [ 2.03150376e+00, -1.42254284e+00],\n",
              "       [ 1.91446003e+00,  1.17153473e+00],\n",
              "       [ 1.09860119e+00, -1.26234864e+00],\n",
              "       [ 7.28010483e-01, -1.59224326e+00],\n",
              "       [ 4.77141216e-01, -1.96191624e-01],\n",
              "       [ 2.79356002e+00, -1.27772881e+00],\n",
              "       [ 3.49967839e-01, -2.39958139e+00],\n",
              "       [ 1.85682418e+00,  7.79180270e-01],\n",
              "       [ 1.84416125e+00,  5.40554592e-02],\n",
              "       [ 2.25091760e+00,  7.09324194e-01],\n",
              "       [ 1.32360613e+00,  7.94036343e-01],\n",
              "       [ 2.95789716e+00,  9.04631191e-01],\n",
              "       [ 2.47177019e+00,  8.36287779e-02],\n",
              "       [ 1.28705065e+00, -4.77803958e-01],\n",
              "       [ 3.01485895e+00,  2.47529038e+00],\n",
              "       [ 4.09274460e+00, -1.34312826e+00],\n",
              "       [ 3.32423061e-01,  2.27154856e+00],\n",
              "       [ 4.50144084e+00,  2.97079711e+00],\n",
              "       [ 2.44506354e+00, -2.03656749e+00],\n",
              "       [ 3.29699590e+00, -8.47861441e-01],\n",
              "       [ 1.98113438e+00, -2.54901315e-02],\n",
              "       [ 1.22088861e+00, -3.11815945e+00],\n",
              "       [ 2.61062553e-01,  1.53791841e+00],\n",
              "       [ 1.78784984e+00, -2.75475188e-01],\n",
              "       [-1.46857832e+00, -1.35267281e+00],\n",
              "       [ 2.69769083e+00,  1.69666390e+00],\n",
              "       [ 2.25369490e+00, -1.48558397e-02],\n",
              "       [ 3.48918181e+00, -4.70143135e-01],\n",
              "       [ 3.00000447e+00,  1.16348816e+00],\n",
              "       [ 7.99225221e-01, -1.19466478e+00],\n",
              "       [ 4.02405739e-01, -2.33898507e-01],\n",
              "       [ 1.50004625e+00,  2.86730606e-01],\n",
              "       [ 1.69366907e+00,  6.94738092e-01],\n",
              "       [ 1.78176429e-01, -2.07983188e+00],\n",
              "       [ 3.09079069e+00,  7.45499865e-01],\n",
              "       [ 1.09325240e+00,  8.98976725e-01],\n",
              "       [ 1.64565200e+00,  6.97783016e-01],\n",
              "       [ 3.04347388e+00, -6.15178916e-01],\n",
              "       [ 2.18632453e+00, -7.41748846e-01],\n",
              "       [ 3.23791047e-01, -1.03665175e+00],\n",
              "       [ 2.54137308e+00,  1.16530621e+00],\n",
              "       [ 1.93504063e+00,  8.75209943e-01],\n",
              "       [-8.33031585e-02,  1.31488698e+00],\n",
              "       [ 2.04572048e+00,  1.08849804e+00],\n",
              "       [ 3.74178106e+00, -8.00301619e-01],\n",
              "       [ 2.33333346e+00, -4.85183041e-01],\n",
              "       [ 2.35528194e+00,  2.06435327e+00],\n",
              "       [ 2.34708852e+00, -4.66787394e-01],\n",
              "       [-2.61975739e-01,  1.42949836e+00],\n",
              "       [ 2.08292980e+00, -6.58049566e-01],\n",
              "       [ 3.21333759e+00, -7.44143352e-01],\n",
              "       [ 1.90056799e+00, -1.36985348e+00],\n",
              "       [ 1.23670887e+00,  4.33968899e-01],\n",
              "       [ 4.32835679e-01, -1.91873233e+00],\n",
              "       [ 2.27745531e+00,  1.94690046e+00],\n",
              "       [-6.57084094e-01, -1.52522177e+00],\n",
              "       [ 3.10086380e+00, -1.38176027e+00],\n",
              "       [ 1.35543955e+00, -2.17195358e-01],\n",
              "       [ 1.63053609e+00, -1.60606733e+00],\n",
              "       [ 1.11244796e+00, -9.89542767e-01],\n",
              "       [ 2.45874408e+00,  1.06843746e+00],\n",
              "       [ 1.57803614e-01, -9.52868638e-01],\n",
              "       [ 3.02289254e+00, -5.84864093e-01],\n",
              "       [ 3.36841044e+00,  8.82007884e-02],\n",
              "       [ 1.08784002e-01, -1.46477084e+00],\n",
              "       [ 8.42902925e-01,  4.95403173e-01],\n",
              "       [ 1.86086341e+00, -5.34347363e-01],\n",
              "       [-1.22734547e-01, -1.81872886e+00],\n",
              "       [ 1.71616764e+00, -1.44923166e+00],\n",
              "       [ 2.31440704e-01, -1.52217859e+00],\n",
              "       [ 2.18829455e+00, -6.52939628e-01],\n",
              "       [-1.19154975e-01, -8.98278875e-01],\n",
              "       [ 8.92050097e-02,  2.45434552e+00],\n",
              "       [ 2.86696736e+00, -7.51967645e-01],\n",
              "       [ 1.17566940e+00, -9.24519063e-01],\n",
              "       [ 2.23359078e-01, -2.53027337e-01],\n",
              "       [ 5.34638724e-01,  8.99538640e-01],\n",
              "       [-8.97582753e-01, -1.55684125e+00],\n",
              "       [ 2.04136892e+00, -8.34754453e-01],\n",
              "       [ 2.63513012e+00, -1.10028287e+00],\n",
              "       [-6.42214336e-01,  8.29495287e-02],\n",
              "       [-2.77362634e-01,  4.63123004e-01],\n",
              "       [ 2.49151776e+00, -1.22063284e+00],\n",
              "       [ 1.76918300e+00, -1.35051628e+00],\n",
              "       [ 1.98015848e-01, -6.73758599e-01],\n",
              "       [ 2.40181873e+00, -2.50262631e-01],\n",
              "       [ 2.34424212e+00,  2.40818254e+00],\n",
              "       [ 8.00315706e-01,  7.01849155e-01],\n",
              "       [ 1.38044740e+00, -2.15969151e+00],\n",
              "       [ 2.89172161e+00, -7.37590462e-01],\n",
              "       [ 8.03996346e-01, -5.31175059e-01],\n",
              "       [ 2.10424914e+00,  1.52607644e+00],\n",
              "       [ 1.48528716e+00, -4.23483174e-01],\n",
              "       [-1.40325379e-01, -1.21592205e+00],\n",
              "       [ 2.68177206e+00,  5.93018945e-01],\n",
              "       [ 2.17085793e+00, -2.16699205e+00],\n",
              "       [-3.65759657e-01,  7.87916077e-01]])"
            ]
          },
          "metadata": {},
          "execution_count": 15
        }
      ]
    },
    {
      "cell_type": "code",
      "source": [
        "plt.figure(figsize=(8,6))\n",
        "plt.scatter(X[:,0],X[:,1],c=dataset['target'])\n",
        "plt.xlabel('First principle component')\n",
        "plt.ylabel('Second principle component')"
      ],
      "metadata": {
        "colab": {
          "base_uri": "https://localhost:8080/",
          "height": 560
        },
        "id": "DXoa-dm-8xeh",
        "outputId": "d7786a92-9b01-4c78-9717-b77091626a12"
      },
      "execution_count": 16,
      "outputs": [
        {
          "output_type": "execute_result",
          "data": {
            "text/plain": [
              "Text(0, 0.5, 'Second principle component')"
            ]
          },
          "metadata": {},
          "execution_count": 16
        },
        {
          "output_type": "display_data",
          "data": {
            "text/plain": [
              "<Figure size 800x600 with 1 Axes>"
            ],
            "image/png": "[encoded data removed]"
          },
          "metadata": {}
        }
      ]
    },
    {
      "cell_type": "code",
      "source": [
        "#splitting data\n",
        "X = dataset.drop(columns='target', axis=1)\n",
        "y = dataset['target']"
      ],
      "metadata": {
        "id": "LymHwYu484Ew"
      },
      "execution_count": 33,
      "outputs": []
    },
    {
      "cell_type": "code",
      "source": [
        "# Splitting the dataset into the Training set and Test set\n",
        "from sklearn.model_selection import train_test_split\n",
        "\n",
        "X_train, X_test, y_train, y_test = train_test_split(X, y, test_size=0.2, random_state=0)"
      ],
      "metadata": {
        "id": "NsdmJBog44D7"
      },
      "execution_count": 34,
      "outputs": []
    },
    {
      "cell_type": "code",
      "source": [
        "from sklearn.preprocessing import StandardScaler\n",
        "\n",
        "sc = StandardScaler()\n",
        "X_train = sc.fit_transform(X_train)\n",
        "X_test = sc.transform(X_test)"
      ],
      "metadata": {
        "id": "TXr1EE_X9Q-l"
      },
      "execution_count": 35,
      "outputs": []
    },
    {
      "cell_type": "code",
      "source": [
        "from sklearn.decomposition import PCA\n",
        "\n",
        "pca = PCA()\n",
        "X_train = pca.fit_transform(X_train)\n",
        "X_test = pca.transform(X_test)"
      ],
      "metadata": {
        "id": "iKKR9bSy9TzF"
      },
      "execution_count": 36,
      "outputs": []
    },
    {
      "cell_type": "code",
      "source": [
        "explained_variance = pca.explained_variance_ratio_"
      ],
      "metadata": {
        "id": "BqpOQviu9YS-"
      },
      "execution_count": 37,
      "outputs": []
    },
    {
      "cell_type": "code",
      "source": [
        "from sklearn.decomposition import PCA\n",
        "\n",
        "pca = PCA(n_components=1)\n",
        "X_train = pca.fit_transform(X_train)\n",
        "X_test = pca.transform(X_test)"
      ],
      "metadata": {
        "id": "OBCkrRvL9bw_"
      },
      "execution_count": 38,
      "outputs": []
    },
    {
      "cell_type": "markdown",
      "source": [
        "training and making predictions"
      ],
      "metadata": {
        "id": "MqmKZAjw9eX2"
      }
    },
    {
      "cell_type": "code",
      "source": [
        "from sklearn.ensemble import RandomForestClassifier\n",
        "\n",
        "classifier = RandomForestClassifier(max_depth=2, random_state=0)\n",
        "classifier.fit(X_train, y_train)\n",
        "\n",
        "# Predicting the Test set results\n",
        "y_pred = classifier.predict(X_test)"
      ],
      "metadata": {
        "id": "crE15kyV9iAA"
      },
      "execution_count": 39,
      "outputs": []
    },
    {
      "cell_type": "code",
      "source": [
        "from sklearn.metrics import confusion_matrix\n",
        "from sklearn.metrics import accuracy_score\n",
        "\n",
        "cm = confusion_matrix(y_test, y_pred)\n",
        "print(cm)\n",
        "print(accuracy_score(y_test, y_pred))"
      ],
      "metadata": {
        "colab": {
          "base_uri": "https://localhost:8080/"
        },
        "id": "pKUzJ_A49kJc",
        "outputId": "90291bd0-3b0c-4b7d-8701-3cb977b7d0db"
      },
      "execution_count": 41,
      "outputs": [
        {
          "output_type": "stream",
          "name": "stdout",
          "text": [
            "[[19  8]\n",
            " [ 2 32]]\n",
            "0.8360655737704918\n"
          ]
        }
      ]
    }
  ]
}